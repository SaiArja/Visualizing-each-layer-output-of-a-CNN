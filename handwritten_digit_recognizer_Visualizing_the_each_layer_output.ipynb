{
  "cells": [
    {
      "cell_type": "code",
      "execution_count": 2,
      "metadata": {
        "id": "LhFRUFQnI3sf"
      },
      "outputs": [],
      "source": [
        "import numpy as np\n",
        "import matplotlib.pyplot as plt\n",
        "import cv2\n",
        "from keras.datasets import mnist\n",
        "from keras.utils.np_utils import to_categorical\n",
        "from keras.layers import Flatten, Dropout, Dense\n",
        "from keras.layers.convolutional import Conv2D, MaxPooling2D\n",
        "from keras.models import Sequential, Model\n",
        "from tensorflow.keras.optimizers import Adam # - Works"
      ]
    },
    {
      "cell_type": "code",
      "execution_count": 3,
      "metadata": {
        "id": "QiCOKFNPKIue"
      },
      "outputs": [],
      "source": [
        "np.random.seed(0)"
      ]
    },
    {
      "cell_type": "code",
      "execution_count": 4,
      "metadata": {
        "id": "U_lmw2_8LzGG"
      },
      "outputs": [],
      "source": [
        "import gzip\n",
        "import sys\n",
        "import pickle"
      ]
    },
    {
      "cell_type": "code",
      "execution_count": 5,
      "metadata": {
        "colab": {
          "base_uri": "https://localhost:8080/"
        },
        "id": "0hTiINI3B_KT",
        "outputId": "e572f5f9-f7e1-48f7-bb5c-8d251945c1a5"
      },
      "outputs": [
        {
          "output_type": "stream",
          "name": "stdout",
          "text": [
            "Downloading data from https://storage.googleapis.com/tensorflow/tf-keras-datasets/mnist.npz\n",
            "11493376/11490434 [==============================] - 0s 0us/step\n",
            "11501568/11490434 [==============================] - 0s 0us/step\n"
          ]
        }
      ],
      "source": [
        "(train_X, train_y), (test_X, test_y) = mnist.load_data()"
      ]
    },
    {
      "cell_type": "code",
      "execution_count": 6,
      "metadata": {
        "colab": {
          "base_uri": "https://localhost:8080/"
        },
        "id": "QuS84Qx-NugZ",
        "outputId": "0cbdd9f1-5409-4628-d420-bb5b67bcb248"
      },
      "outputs": [
        {
          "output_type": "execute_result",
          "data": {
            "text/plain": [
              "60000"
            ]
          },
          "metadata": {},
          "execution_count": 6
        }
      ],
      "source": [
        "len(train_X)"
      ]
    },
    {
      "cell_type": "code",
      "execution_count": 7,
      "metadata": {
        "colab": {
          "base_uri": "https://localhost:8080/"
        },
        "id": "Fg0XUp9JN4j8",
        "outputId": "63127889-ba89-4c37-9382-3b1325ee091f"
      },
      "outputs": [
        {
          "output_type": "execute_result",
          "data": {
            "text/plain": [
              "10000"
            ]
          },
          "metadata": {},
          "execution_count": 7
        }
      ],
      "source": [
        "len(test_X)"
      ]
    },
    {
      "cell_type": "code",
      "execution_count": 8,
      "metadata": {
        "colab": {
          "base_uri": "https://localhost:8080/",
          "height": 282
        },
        "id": "W1a9SJ2-N7a4",
        "outputId": "046244dc-dc3e-4404-fe27-4dddacd0a881"
      },
      "outputs": [
        {
          "output_type": "execute_result",
          "data": {
            "text/plain": [
              "8"
            ]
          },
          "metadata": {},
          "execution_count": 8
        },
        {
          "output_type": "display_data",
          "data": {
            "text/plain": [
              "<Figure size 432x288 with 1 Axes>"
            ],
            "image/png": "[encoded data removed]"
          },
          "metadata": {
            "needs_background": "light"
          }
        }
      ],
      "source": [
        "test_rand = np.random.randint(2,100)\n",
        "plt.imshow(train_X[test_rand],cmap= 'gray')\n",
        "train_y[test_rand]"
      ]
    },
    {
      "cell_type": "code",
      "execution_count": 9,
      "metadata": {
        "colab": {
          "base_uri": "https://localhost:8080/"
        },
        "id": "1gvxOynQO-Ka",
        "outputId": "69a4f18a-e34d-41da-be08-7e9e69964def"
      },
      "outputs": [
        {
          "output_type": "stream",
          "name": "stdout",
          "text": [
            "(60000, 28, 28)\n",
            "(10000,)\n"
          ]
        }
      ],
      "source": [
        "print(train_X.shape)\n",
        "print(test_y.shape)"
      ]
    },
    {
      "cell_type": "code",
      "execution_count": 10,
      "metadata": {
        "colab": {
          "base_uri": "https://localhost:8080/",
          "height": 1000
        },
        "id": "u3L8GqC3PRHm",
        "outputId": "a8205250-3e4b-494d-c87a-06a5b5348618"
      },
      "outputs": [
        {
          "output_type": "stream",
          "name": "stdout",
          "text": [
            "[[  0   0   0   0   0   0   0   0   0   0   0   0   0   0   0   0   0   0\n",
            "    0   0   0   0   0   0   0   0   0   0]\n",
            " [  0   0   0   0   0   0   0   0   0   0   0   0   0   0   0   0   0   0\n",
            "    0   0   0   0   0   0   0   0   0   0]\n",
            " [  0   0   0   0   0   0   0   0   0   0   0   0   0   0   0   0   0   0\n",
            "    0   0   0   0   0   0   0   0   0   0]\n",
            " [  0   0   0   0   0   0   0   0   0   0   0   0   0   0   0   0   0   0\n",
            "    0   0   0   0   0   0   0   0   0   0]\n",
            " [  0   0   0   0   0   0   0   0   0   0   0   0   0   0   0   0   0   0\n",
            "    0   0   0   0   0   0   0   0   0   0]\n",
            " [  0   0   0   0   0   0   0   0   0   0   0   0   2 152 203 181 141  58\n",
            "   17   0   0   0   0   0   0   0   0   0]\n",
            " [  0   0   0   0   0   0   0   0   0   0   0   0   0  40 172 247 188 232\n",
            "  234  35   0   0   0   0   0   0   0   0]\n",
            " [  0   0   0   0   0   0   0   0   0   0  17  82 101 143 252 245  67  35\n",
            "  225 214   0   0   0   0   0   0   0   0]\n",
            " [  0   0   0   0   0   0   0   0   5 132 237 254 254 254 254 254 243  80\n",
            "  210 248  35   0   0   0   0   0   0   0]\n",
            " [  0   0   0   0   0   0   0   0 163 251 211 107  23  36 120 240 246  98\n",
            "  218 143   0   0   0   0   0   0   0   0]\n",
            " [  0   0   0   0   0   0   0  47 251 166   0   0   0   0   0  16  43 189\n",
            "  212  25   0   0   0   0   0   0   0   0]\n",
            " [  0   0   0   0   0   0   0  40 250 214  14   0   0   0   0  10 148 250\n",
            "   99   0   0   0   0   0   0   0   0   0]\n",
            " [  0   0   0   0   0   0   0   0 137 254 234 103   6   0   0 154 225  85\n",
            "    0   0   0   0   0   0   0   0   0   0]\n",
            " [  0   0   0   0   0   0   0   0   3  44 195 254 184  24 129 235  35   0\n",
            "    0   0   0   0   0   0   0   0   0   0]\n",
            " [  0   0   0   0   0   0   0   0   0   0   0 101 240 254 254  66   0   0\n",
            "    0   0   0   0   0   0   0   0   0   0]\n",
            " [  0   0   0   0   0   0   0   0   0   0   0   0 172 254 254 108   0   0\n",
            "    0   0   0   0   0   0   0   0   0   0]\n",
            " [  0   0   0   0   0   0   0   0   0   0   2 154 253  98 190 254 104   0\n",
            "    0   0   0   0   0   0   0   0   0   0]\n",
            " [  0   0   0   0   0   0   0   0   0   0  91 254 131   0  13 212 225  64\n",
            "    0   0   0   0   0   0   0   0   0   0]\n",
            " [  0   0   0   0   0   0   0   0   0  20 238 254  29   0   0  55 244 195\n",
            "   20   0   0   0   0   0   0   0   0   0]\n",
            " [  0   0   0   0   0   0   0   0   0  90 254 219   6   0   0   0 100 254\n",
            "  111   0   0   0   0   0   0   0   0   0]\n",
            " [  0   0   0   0   0   0   0   0   0 127 254 116   0   0   0   0  23 248\n",
            "  126   0   0   0   0   0   0   0   0   0]\n",
            " [  0   0   0   0   0   0   0   0   0 127 254  63   0   0   0   0  49 252\n",
            "  126   0   0   0   0   0   0   0   0   0]\n",
            " [  0   0   0   0   0   0   0   0   0 124 248  29   0   0   0  38 167 254\n",
            "  101   0   0   0   0   0   0   0   0   0]\n",
            " [  0   0   0   0   0   0   0   0   0  29 233 211 115 115 135 254 244 130\n",
            "    0   0   0   0   0   0   0   0   0   0]\n",
            " [  0   0   0   0   0   0   0   0   0   0  70 236 254 254 254 173  38   0\n",
            "    0   0   0   0   0   0   0   0   0   0]\n",
            " [  0   0   0   0   0   0   0   0   0   0   0   0   0   0   0   0   0   0\n",
            "    0   0   0   0   0   0   0   0   0   0]\n",
            " [  0   0   0   0   0   0   0   0   0   0   0   0   0   0   0   0   0   0\n",
            "    0   0   0   0   0   0   0   0   0   0]\n",
            " [  0   0   0   0   0   0   0   0   0   0   0   0   0   0   0   0   0   0\n",
            "    0   0   0   0   0   0   0   0   0   0]]\n"
          ]
        },
        {
          "output_type": "display_data",
          "data": {
            "text/plain": [
              "<Figure size 432x288 with 1 Axes>"
            ],
            "image/png": "[encoded data removed]"
          },
          "metadata": {
            "needs_background": "light"
          }
        }
      ],
      "source": [
        "plt.imshow(train_X[test_rand],cmap= 'gray')\n",
        "print(train_X[test_rand])"
      ]
    },
    {
      "cell_type": "code",
      "execution_count": 11,
      "metadata": {
        "id": "DZy3QxlHPi6e"
      },
      "outputs": [],
      "source": [
        "num_of_samples=[]\n",
        "cols = 5\n",
        "num_classes = 10"
      ]
    },
    {
      "cell_type": "code",
      "execution_count": 12,
      "metadata": {
        "colab": {
          "base_uri": "https://localhost:8080/",
          "height": 718
        },
        "id": "gZHhwP_yyx4h",
        "outputId": "4301a1ed-b8e3-4417-8ac6-79bc4af4e8d4"
      },
      "outputs": [
        {
          "output_type": "display_data",
          "data": {
            "text/plain": [
              "<Figure size 360x720 with 50 Axes>"
            ],
            "image/png": "[encoded data removed]"
          },
          "metadata": {
            "needs_background": "light"
          }
        }
      ],
      "source": [
        "fig, axs = plt.subplots(nrows= num_classes, ncols=cols, figsize= (5,10))\n",
        "fig.tight_layout()\n",
        "for i in range(cols):\n",
        "  for j in range(num_classes):\n",
        "    x_selected = train_X[train_y== j]\n",
        "    axs[j][i].imshow(x_selected[np.random.randint(0,(len(x_selected)-1)), :, :], cmap=plt.get_cmap('gray'))\n",
        "    axs[j][i].axis('off')\n",
        "    if i == 2:\n",
        "      axs[j][i].set_title(str(j))\n",
        "      num_of_samples.append(len(x_selected))"
      ]
    },
    {
      "cell_type": "code",
      "execution_count": 13,
      "metadata": {
        "colab": {
          "base_uri": "https://localhost:8080/",
          "height": 312
        },
        "id": "HIPTkCp8RuvJ",
        "outputId": "dad3f2ff-445b-44f0-b247-30dd336c0c64"
      },
      "outputs": [
        {
          "output_type": "stream",
          "name": "stdout",
          "text": [
            "[5923, 6742, 5958, 6131, 5842, 5421, 5918, 6265, 5851, 5949]\n"
          ]
        },
        {
          "output_type": "display_data",
          "data": {
            "text/plain": [
              "<Figure size 864x288 with 1 Axes>"
            ],
            "image/png": "[encoded data removed]"
          },
          "metadata": {
            "needs_background": "light"
          }
        }
      ],
      "source": [
        "print(num_of_samples)\n",
        "plt.figure(figsize=(12,4))\n",
        "plt.bar(range(num_classes), num_of_samples)\n",
        "plt.title(\"Distribution of the train dataset\")\n",
        "plt.xlabel(\"Class number\")\n",
        "plt.ylabel(\"Number of images\")\n",
        "plt.show()"
      ]
    },
    {
      "cell_type": "markdown",
      "metadata": {
        "id": "d6wmuIYFy1ag"
      },
      "source": [
        "## Preprocessing the Data\n",
        " Normalizing the X train and X test data by dividing by the max value of the image arrays.**"
      ]
    },
    {
      "cell_type": "code",
      "execution_count": 14,
      "metadata": {
        "colab": {
          "base_uri": "https://localhost:8080/"
        },
        "id": "U4PIVGgIy1ad",
        "outputId": "67a469cb-dab7-40d2-eb4d-b8de8e527605"
      },
      "outputs": [
        {
          "output_type": "execute_result",
          "data": {
            "text/plain": [
              "255"
            ]
          },
          "metadata": {},
          "execution_count": 14
        }
      ],
      "source": [
        "train_X.max()"
      ]
    },
    {
      "cell_type": "code",
      "execution_count": 15,
      "metadata": {
        "id": "Qoax_NQGy1aa"
      },
      "outputs": [],
      "source": [
        "train_X = train_X/255\n",
        "test_X = test_X/255"
      ]
    },
    {
      "cell_type": "markdown",
      "metadata": {
        "id": "23xFslTky1aZ"
      },
      "source": [
        " Reshapeing the X arrays to include a 4 dimension of the single channel. Similar to what we did for the numbers MNIST data set.**"
      ]
    },
    {
      "cell_type": "code",
      "execution_count": 16,
      "metadata": {
        "colab": {
          "base_uri": "https://localhost:8080/"
        },
        "id": "P-AYfqWdy1aW",
        "outputId": "d9786aff-3061-457d-f298-2d31cee2a8ac"
      },
      "outputs": [
        {
          "output_type": "execute_result",
          "data": {
            "text/plain": [
              "(60000, 28, 28)"
            ]
          },
          "metadata": {},
          "execution_count": 16
        }
      ],
      "source": [
        "train_X.shape"
      ]
    },
    {
      "cell_type": "code",
      "execution_count": 17,
      "metadata": {
        "colab": {
          "base_uri": "https://localhost:8080/"
        },
        "id": "VVl7RtRHy1aP",
        "outputId": "47c0f293-be52-4d2e-ef17-a43babecdb18"
      },
      "outputs": [
        {
          "output_type": "execute_result",
          "data": {
            "text/plain": [
              "(60000, 28, 28, 1)"
            ]
          },
          "metadata": {},
          "execution_count": 17
        }
      ],
      "source": [
        "train_X = train_X.reshape(-1, 28, 28,1)\n",
        "train_X.shape"
      ]
    },
    {
      "cell_type": "code",
      "execution_count": 18,
      "metadata": {
        "colab": {
          "base_uri": "https://localhost:8080/"
        },
        "id": "Xf97Z_0oy1aG",
        "outputId": "d824f3be-ceaa-4c4d-b4bc-00ad87d0ebe2"
      },
      "outputs": [
        {
          "output_type": "execute_result",
          "data": {
            "text/plain": [
              "(10000, 28, 28)"
            ]
          },
          "metadata": {},
          "execution_count": 18
        }
      ],
      "source": [
        "test_X.shape"
      ]
    },
    {
      "cell_type": "code",
      "execution_count": 19,
      "metadata": {
        "id": "scAPFGnky1Z_"
      },
      "outputs": [],
      "source": [
        "test_X= test_X.reshape(-1, 28, 28,1)"
      ]
    },
    {
      "cell_type": "code",
      "execution_count": 20,
      "metadata": {
        "colab": {
          "base_uri": "https://localhost:8080/"
        },
        "id": "igrbOCojy1Z6",
        "outputId": "4f387bb6-2834-4459-8987-5a98a04004a1"
      },
      "outputs": [
        {
          "output_type": "execute_result",
          "data": {
            "text/plain": [
              "(10000, 28, 28, 1)"
            ]
          },
          "metadata": {},
          "execution_count": 20
        }
      ],
      "source": [
        "test_X.shape"
      ]
    },
    {
      "cell_type": "markdown",
      "metadata": {
        "id": "xQs1-Hr5y1Z0"
      },
      "source": [
        " Converting the y_train and y_test values to be one-hot encoded for categorical analysis by Keras.**"
      ]
    },
    {
      "cell_type": "code",
      "execution_count": 21,
      "metadata": {
        "id": "aAsCoRSpy1Zf"
      },
      "outputs": [],
      "source": [
        "cat_train_y = to_categorical(train_y)\n",
        "cat_test_y = to_categorical(test_y)"
      ]
    },
    {
      "cell_type": "code",
      "execution_count": 22,
      "metadata": {
        "colab": {
          "base_uri": "https://localhost:8080/"
        },
        "id": "Y94CFFIC0ACi",
        "outputId": "e197c7de-15b7-4a26-8980-386eae695c51"
      },
      "outputs": [
        {
          "output_type": "execute_result",
          "data": {
            "text/plain": [
              "(60000, 10)"
            ]
          },
          "metadata": {},
          "execution_count": 22
        }
      ],
      "source": [
        "cat_train_y.shape"
      ]
    },
    {
      "cell_type": "code",
      "execution_count": 23,
      "metadata": {
        "colab": {
          "base_uri": "https://localhost:8080/"
        },
        "id": "71yOWnAZ0H7w",
        "outputId": "288dd510-c7a7-4790-d4b1-b92f9f252cee"
      },
      "outputs": [
        {
          "output_type": "execute_result",
          "data": {
            "text/plain": [
              "(10000, 10)"
            ]
          },
          "metadata": {},
          "execution_count": 23
        }
      ],
      "source": [
        "cat_test_y.shape"
      ]
    },
    {
      "cell_type": "markdown",
      "metadata": {
        "id": "TedOLIs0TDx6"
      },
      "source": [
        "# Building the Model"
      ]
    },
    {
      "cell_type": "code",
      "execution_count": 24,
      "metadata": {
        "id": "ScMJ_cbhYUms"
      },
      "outputs": [],
      "source": [
        "def le_net():\n",
        "  model = Sequential()\n",
        "  model.add(Conv2D(30,(5,5), input_shape=(28,28,1), activation = 'relu'))\n",
        "  model.add(MaxPooling2D(pool_size=(2,2)))\n",
        "  model.add(Conv2D(15,(3,3), activation='relu'))\n",
        "  model.add(MaxPooling2D(pool_size=(2,2)))\n",
        "  model.add(Flatten())\n",
        "  model.add(Dense(500,activation=\"relu\"))\n",
        "  model.add(Dropout(0.5))\n",
        "  model.add(Dropout(0.5))\n",
        "  model.add(Dense(num_classes,activation=\"softmax\"))\n",
        "  model.compile(Adam(lr=0.001),loss ='categorical_crossentropy', metrics=['accuracy'])\n",
        "  return model"
      ]
    },
    {
      "cell_type": "code",
      "execution_count": 25,
      "metadata": {
        "colab": {
          "base_uri": "https://localhost:8080/"
        },
        "id": "dIrZ4mtXbf5B",
        "outputId": "fb5020b6-f654-438c-d3c0-c5852e0916c9"
      },
      "outputs": [
        {
          "output_type": "stream",
          "name": "stderr",
          "text": [
            "/usr/local/lib/python3.7/dist-packages/keras/optimizer_v2/adam.py:105: UserWarning: The `lr` argument is deprecated, use `learning_rate` instead.\n",
            "  super(Adam, self).__init__(name, **kwargs)\n"
          ]
        }
      ],
      "source": [
        "lenet = le_net()"
      ]
    },
    {
      "cell_type": "code",
      "execution_count": 26,
      "metadata": {
        "colab": {
          "base_uri": "https://localhost:8080/"
        },
        "id": "LPoCOgFjghCH",
        "outputId": "9d071e5a-58e5-425d-acb6-4589ccefd8df"
      },
      "outputs": [
        {
          "output_type": "stream",
          "name": "stdout",
          "text": [
            "Model: \"sequential\"\n",
            "_________________________________________________________________\n",
            " Layer (type)                Output Shape              Param #   \n",
            "=================================================================\n",
            " conv2d (Conv2D)             (None, 24, 24, 30)        780       \n",
            "                                                                 \n",
            " max_pooling2d (MaxPooling2D  (None, 12, 12, 30)       0         \n",
            " )                                                               \n",
            "                                                                 \n",
            " conv2d_1 (Conv2D)           (None, 10, 10, 15)        4065      \n",
            "                                                                 \n",
            " max_pooling2d_1 (MaxPooling  (None, 5, 5, 15)         0         \n",
            " 2D)                                                             \n",
            "                                                                 \n",
            " flatten (Flatten)           (None, 375)               0         \n",
            "                                                                 \n",
            " dense (Dense)               (None, 500)               188000    \n",
            "                                                                 \n",
            " dropout (Dropout)           (None, 500)               0         \n",
            "                                                                 \n",
            " dropout_1 (Dropout)         (None, 500)               0         \n",
            "                                                                 \n",
            " dense_1 (Dense)             (None, 10)                5010      \n",
            "                                                                 \n",
            "=================================================================\n",
            "Total params: 197,855\n",
            "Trainable params: 197,855\n",
            "Non-trainable params: 0\n",
            "_________________________________________________________________\n"
          ]
        }
      ],
      "source": [
        "lenet.summary()"
      ]
    },
    {
      "cell_type": "code",
      "source": [
        "import tensorflow as tf\n",
        "tf.config.run_functions_eagerly(True)"
      ],
      "metadata": {
        "id": "g2YPKWb4Fn43"
      },
      "execution_count": 27,
      "outputs": []
    },
    {
      "cell_type": "markdown",
      "metadata": {
        "id": "QJkBCsU6t4QP"
      },
      "source": [
        ""
      ]
    },
    {
      "cell_type": "code",
      "execution_count": 28,
      "metadata": {
        "colab": {
          "base_uri": "https://localhost:8080/"
        },
        "id": "Vs4hVVylg7oY",
        "outputId": "95dd6da1-7f9a-4874-f418-ed0f9cb26e83"
      },
      "outputs": [
        {
          "output_type": "stream",
          "name": "stderr",
          "text": [
            "/usr/local/lib/python3.7/dist-packages/tensorflow/python/data/ops/structured_function.py:265: UserWarning: Even though the `tf.config.experimental_run_functions_eagerly` option is set, this option does not apply to tf.data functions. To force eager execution of tf.data functions, please use `tf.data.experimental.enable_debug_mode()`.\n",
            "  \"Even though the `tf.config.experimental_run_functions_eagerly` \"\n"
          ]
        },
        {
          "output_type": "stream",
          "name": "stdout",
          "text": [
            "Epoch 1/20\n",
            "135/135 [==============================] - 14s 41ms/step - loss: 0.6046 - accuracy: 0.8095 - val_loss: 0.1067 - val_accuracy: 0.9715\n",
            "Epoch 2/20\n",
            "135/135 [==============================] - 5s 40ms/step - loss: 0.1627 - accuracy: 0.9518 - val_loss: 0.0632 - val_accuracy: 0.9827\n",
            "Epoch 3/20\n",
            "135/135 [==============================] - 5s 40ms/step - loss: 0.1128 - accuracy: 0.9663 - val_loss: 0.0538 - val_accuracy: 0.9840\n",
            "Epoch 4/20\n",
            "135/135 [==============================] - 5s 40ms/step - loss: 0.0882 - accuracy: 0.9731 - val_loss: 0.0443 - val_accuracy: 0.9883\n",
            "Epoch 5/20\n",
            "135/135 [==============================] - 5s 40ms/step - loss: 0.0782 - accuracy: 0.9767 - val_loss: 0.0408 - val_accuracy: 0.9878\n",
            "Epoch 6/20\n",
            "135/135 [==============================] - 6s 42ms/step - loss: 0.0686 - accuracy: 0.9791 - val_loss: 0.0389 - val_accuracy: 0.9893\n",
            "Epoch 7/20\n",
            "135/135 [==============================] - 5s 38ms/step - loss: 0.0615 - accuracy: 0.9813 - val_loss: 0.0374 - val_accuracy: 0.9902\n",
            "Epoch 8/20\n",
            "135/135 [==============================] - 5s 39ms/step - loss: 0.0578 - accuracy: 0.9822 - val_loss: 0.0355 - val_accuracy: 0.9895\n",
            "Epoch 9/20\n",
            "135/135 [==============================] - 5s 39ms/step - loss: 0.0527 - accuracy: 0.9835 - val_loss: 0.0319 - val_accuracy: 0.9908\n",
            "Epoch 10/20\n",
            "135/135 [==============================] - 5s 39ms/step - loss: 0.0484 - accuracy: 0.9856 - val_loss: 0.0322 - val_accuracy: 0.9910\n",
            "Epoch 11/20\n",
            "135/135 [==============================] - 5s 39ms/step - loss: 0.0479 - accuracy: 0.9850 - val_loss: 0.0332 - val_accuracy: 0.9907\n",
            "Epoch 12/20\n",
            "135/135 [==============================] - 5s 38ms/step - loss: 0.0432 - accuracy: 0.9866 - val_loss: 0.0316 - val_accuracy: 0.9903\n",
            "Epoch 13/20\n",
            "135/135 [==============================] - 5s 38ms/step - loss: 0.0404 - accuracy: 0.9874 - val_loss: 0.0298 - val_accuracy: 0.9912\n",
            "Epoch 14/20\n",
            "135/135 [==============================] - 5s 39ms/step - loss: 0.0399 - accuracy: 0.9873 - val_loss: 0.0330 - val_accuracy: 0.9900\n",
            "Epoch 15/20\n",
            "135/135 [==============================] - 5s 39ms/step - loss: 0.0387 - accuracy: 0.9879 - val_loss: 0.0295 - val_accuracy: 0.9918\n",
            "Epoch 16/20\n",
            "135/135 [==============================] - 5s 39ms/step - loss: 0.0347 - accuracy: 0.9892 - val_loss: 0.0318 - val_accuracy: 0.9908\n",
            "Epoch 17/20\n",
            "135/135 [==============================] - 5s 39ms/step - loss: 0.0338 - accuracy: 0.9894 - val_loss: 0.0305 - val_accuracy: 0.9912\n",
            "Epoch 18/20\n",
            "135/135 [==============================] - 5s 39ms/step - loss: 0.0328 - accuracy: 0.9893 - val_loss: 0.0291 - val_accuracy: 0.9920\n",
            "Epoch 19/20\n",
            "135/135 [==============================] - 5s 39ms/step - loss: 0.0298 - accuracy: 0.9907 - val_loss: 0.0275 - val_accuracy: 0.9928\n",
            "Epoch 20/20\n",
            "135/135 [==============================] - 5s 39ms/step - loss: 0.0314 - accuracy: 0.9898 - val_loss: 0.0282 - val_accuracy: 0.9913\n"
          ]
        }
      ],
      "source": [
        "history= lenet.fit(train_X,cat_train_y, epochs=20, validation_split= 0.1, batch_size=400,verbose=1,shuffle=1)"
      ]
    },
    {
      "cell_type": "markdown",
      "metadata": {
        "id": "V4_9dcFx2vr6"
      },
      "source": [
        "### Evaluating the Model\n",
        "\n",
        "**TASK 7: Showing the accuracy,precision,recall,f1-score the model achieved on the X_test data set."
      ]
    },
    {
      "cell_type": "code",
      "execution_count": 29,
      "metadata": {
        "colab": {
          "base_uri": "https://localhost:8080/",
          "height": 312
        },
        "id": "AqqplhORoKSd",
        "outputId": "fa73cfd2-3802-4dbf-b480-f8585b28fcc8"
      },
      "outputs": [
        {
          "output_type": "execute_result",
          "data": {
            "text/plain": [
              "Text(0.5, 0, 'epoch')"
            ]
          },
          "metadata": {},
          "execution_count": 29
        },
        {
          "output_type": "display_data",
          "data": {
            "text/plain": [
              "<Figure size 432x288 with 1 Axes>"
            ],
            "image/png": "[encoded data removed]"
          },
          "metadata": {
            "needs_background": "light"
          }
        }
      ],
      "source": [
        "plt.plot(history.history['loss'])\n",
        "plt.plot(history.history['val_loss'])\n",
        "plt.legend(['loss','val_loss'])\n",
        "plt.title('Loss')\n",
        "plt.xlabel('epoch')"
      ]
    },
    {
      "cell_type": "code",
      "execution_count": 30,
      "metadata": {
        "colab": {
          "base_uri": "https://localhost:8080/",
          "height": 312
        },
        "id": "NxAmSRq3p873",
        "outputId": "4c350a9b-c686-40ee-db22-69a3af49d910"
      },
      "outputs": [
        {
          "output_type": "execute_result",
          "data": {
            "text/plain": [
              "Text(0.5, 0, 'epoch')"
            ]
          },
          "metadata": {},
          "execution_count": 30
        },
        {
          "output_type": "display_data",
          "data": {
            "text/plain": [
              "<Figure size 432x288 with 1 Axes>"
            ],
            "image/png": "[encoded data removed]"
          },
          "metadata": {
            "needs_background": "light"
          }
        }
      ],
      "source": [
        "plt.plot(history.history['accuracy'])\n",
        "plt.plot(history.history['val_accuracy'])\n",
        "plt.legend(['accuracy','val_accuracy'])\n",
        "plt.title('Acc')\n",
        "plt.xlabel('epoch')"
      ]
    },
    {
      "cell_type": "code",
      "execution_count": 31,
      "metadata": {
        "colab": {
          "base_uri": "https://localhost:8080/"
        },
        "id": "w5iC4JDBKNCa",
        "outputId": "f3ad88bf-7ebd-42b8-9984-a76d9af53239"
      },
      "outputs": [
        {
          "output_type": "execute_result",
          "data": {
            "text/plain": [
              "['loss', 'accuracy']"
            ]
          },
          "metadata": {},
          "execution_count": 31
        }
      ],
      "source": [
        "lenet.metrics_names"
      ]
    },
    {
      "cell_type": "code",
      "execution_count": 32,
      "metadata": {
        "id": "s2Mre2fzy4Z7"
      },
      "outputs": [],
      "source": [
        "cat_test_y = to_categorical(test_y)"
      ]
    },
    {
      "cell_type": "code",
      "execution_count": 33,
      "metadata": {
        "colab": {
          "base_uri": "https://localhost:8080/"
        },
        "id": "BKQeNojpuQPI",
        "outputId": "99d5e0ee-f903-40cb-8819-795772da052a"
      },
      "outputs": [
        {
          "output_type": "stream",
          "name": "stdout",
          "text": [
            "  4/313 [..............................] - ETA: 5s - loss: 0.0023 - accuracy: 1.0000 "
          ]
        },
        {
          "output_type": "stream",
          "name": "stderr",
          "text": [
            "/usr/local/lib/python3.7/dist-packages/tensorflow/python/data/ops/structured_function.py:265: UserWarning: Even though the `tf.config.experimental_run_functions_eagerly` option is set, this option does not apply to tf.data functions. To force eager execution of tf.data functions, please use `tf.data.experimental.enable_debug_mode()`.\n",
            "  \"Even though the `tf.config.experimental_run_functions_eagerly` \"\n"
          ]
        },
        {
          "output_type": "stream",
          "name": "stdout",
          "text": [
            "313/313 [==============================] - 6s 18ms/step - loss: 0.0222 - accuracy: 0.9924\n"
          ]
        },
        {
          "output_type": "execute_result",
          "data": {
            "text/plain": [
              "[0.022234484553337097, 0.9923999905586243]"
            ]
          },
          "metadata": {},
          "execution_count": 33
        }
      ],
      "source": [
        "lenet.evaluate(test_X,cat_test_y)"
      ]
    },
    {
      "cell_type": "code",
      "execution_count": 34,
      "metadata": {
        "id": "x-pdr26quQPU"
      },
      "outputs": [],
      "source": [
        "from sklearn.metrics import classification_report"
      ]
    },
    {
      "cell_type": "code",
      "execution_count": 35,
      "metadata": {
        "colab": {
          "base_uri": "https://localhost:8080/"
        },
        "id": "kNrY7SMVuQPe",
        "outputId": "b5f43891-dbce-4cd5-8438-8dd086e0d34e"
      },
      "outputs": [
        {
          "output_type": "stream",
          "name": "stderr",
          "text": [
            "/usr/local/lib/python3.7/dist-packages/tensorflow/python/data/ops/structured_function.py:265: UserWarning: Even though the `tf.config.experimental_run_functions_eagerly` option is set, this option does not apply to tf.data functions. To force eager execution of tf.data functions, please use `tf.data.experimental.enable_debug_mode()`.\n",
            "  \"Even though the `tf.config.experimental_run_functions_eagerly` \"\n"
          ]
        }
      ],
      "source": [
        "\n",
        "predictions = (lenet.predict(test_X) > 0.5).astype(\"int32\")"
      ]
    },
    {
      "cell_type": "code",
      "execution_count": 36,
      "metadata": {
        "colab": {
          "base_uri": "https://localhost:8080/"
        },
        "id": "vf_MXHrauQPl",
        "outputId": "07d59366-73b6-48ec-c1d6-de368edac353"
      },
      "outputs": [
        {
          "output_type": "execute_result",
          "data": {
            "text/plain": [
              "array([[0, 0, 0, ..., 1, 0, 0],\n",
              "       [0, 0, 1, ..., 0, 0, 0],\n",
              "       [0, 1, 0, ..., 0, 0, 0],\n",
              "       ...,\n",
              "       [0, 0, 0, ..., 0, 0, 0],\n",
              "       [0, 0, 0, ..., 0, 0, 0],\n",
              "       [0, 0, 0, ..., 0, 0, 0]], dtype=int32)"
            ]
          },
          "metadata": {},
          "execution_count": 36
        }
      ],
      "source": [
        "predictions"
      ]
    },
    {
      "cell_type": "code",
      "source": [
        "y_predict = np.argmax(lenet.predict(test_X), axis=-1)"
      ],
      "metadata": {
        "colab": {
          "base_uri": "https://localhost:8080/"
        },
        "id": "HJi7-jAkHRDB",
        "outputId": "451f3123-b724-4133-e24d-adae58f3045f"
      },
      "execution_count": 37,
      "outputs": [
        {
          "output_type": "stream",
          "name": "stderr",
          "text": [
            "/usr/local/lib/python3.7/dist-packages/tensorflow/python/data/ops/structured_function.py:265: UserWarning: Even though the `tf.config.experimental_run_functions_eagerly` option is set, this option does not apply to tf.data functions. To force eager execution of tf.data functions, please use `tf.data.experimental.enable_debug_mode()`.\n",
            "  \"Even though the `tf.config.experimental_run_functions_eagerly` \"\n"
          ]
        }
      ]
    },
    {
      "cell_type": "code",
      "source": [
        "y_predict"
      ],
      "metadata": {
        "colab": {
          "base_uri": "https://localhost:8080/"
        },
        "id": "0Kri8zSnH0-E",
        "outputId": "97774e05-ad57-4e78-8fc9-b3def06eb25e"
      },
      "execution_count": 38,
      "outputs": [
        {
          "output_type": "execute_result",
          "data": {
            "text/plain": [
              "array([7, 2, 1, ..., 4, 5, 6])"
            ]
          },
          "metadata": {},
          "execution_count": 38
        }
      ]
    },
    {
      "cell_type": "code",
      "execution_count": 39,
      "metadata": {
        "colab": {
          "base_uri": "https://localhost:8080/"
        },
        "id": "4_750jihuQPp",
        "outputId": "31a815be-4c99-4d3b-ff64-151b7bd8a318"
      },
      "outputs": [
        {
          "output_type": "stream",
          "name": "stdout",
          "text": [
            "              precision    recall  f1-score   support\n",
            "\n",
            "           0       0.99      1.00      0.99       980\n",
            "           1       0.99      1.00      1.00      1135\n",
            "           2       0.99      1.00      0.99      1032\n",
            "           3       1.00      0.99      1.00      1010\n",
            "           4       0.98      1.00      0.99       982\n",
            "           5       0.99      0.99      0.99       892\n",
            "           6       0.99      0.99      0.99       958\n",
            "           7       0.99      0.99      0.99      1028\n",
            "           8       0.99      0.99      0.99       974\n",
            "           9       0.99      0.98      0.99      1009\n",
            "\n",
            "    accuracy                           0.99     10000\n",
            "   macro avg       0.99      0.99      0.99     10000\n",
            "weighted avg       0.99      0.99      0.99     10000\n",
            "\n"
          ]
        }
      ],
      "source": [
        "print(classification_report(test_y, y_predict))"
      ]
    },
    {
      "cell_type": "markdown",
      "metadata": {
        "id": "PSwEcJHG7dzW"
      },
      "source": [
        "# Testing the Model"
      ]
    },
    {
      "cell_type": "code",
      "execution_count": 40,
      "metadata": {
        "colab": {
          "base_uri": "https://localhost:8080/",
          "height": 372
        },
        "id": "nTOfs4ZLJCUv",
        "outputId": "23d40fa3-1b5c-4a0c-c009-bdd6a6b4a1b5"
      },
      "outputs": [
        {
          "output_type": "stream",
          "name": "stderr",
          "text": [
            "/usr/local/lib/python3.7/dist-packages/tensorflow/python/data/ops/structured_function.py:265: UserWarning: Even though the `tf.config.experimental_run_functions_eagerly` option is set, this option does not apply to tf.data functions. To force eager execution of tf.data functions, please use `tf.data.experimental.enable_debug_mode()`.\n",
            "  \"Even though the `tf.config.experimental_run_functions_eagerly` \"\n"
          ]
        },
        {
          "output_type": "stream",
          "name": "stdout",
          "text": [
            "predicted number is 5\n",
            "\n"
          ]
        },
        {
          "output_type": "execute_result",
          "data": {
            "text/plain": [
              "<matplotlib.image.AxesImage at 0x7f4b1723f590>"
            ]
          },
          "metadata": {},
          "execution_count": 40
        },
        {
          "output_type": "display_data",
          "data": {
            "text/plain": [
              "<Figure size 432x288 with 1 Axes>"
            ],
            "image/png": "[encoded data removed]"
          },
          "metadata": {
            "needs_background": "light"
          }
        }
      ],
      "source": [
        "rand_num = np.random.randint(0,10000)\n",
        "test_img = test_X[rand_num]\n",
        "test_img= test_img.reshape(1,28,28,1)\n",
        "print('predicted number is', np.argmax(lenet.predict(test_img), axis=-1)[0])\n",
        "print()\n",
        "\n",
        "# checking the predicted num imgage\n",
        "test_img= test_img.reshape(28,28)\n",
        "plt.imshow(test_img, cmap='gray')"
      ]
    },
    {
      "cell_type": "markdown",
      "source": [
        "**Plotting the model flow diagram**"
      ],
      "metadata": {
        "id": "TkRWqTWVDk75"
      }
    },
    {
      "cell_type": "code",
      "source": [
        "from tensorflow.keras.utils import plot_model\n",
        "# plot graph\n",
        "plot_model(lenet, to_file='simple_model.png')"
      ],
      "metadata": {
        "colab": {
          "base_uri": "https://localhost:8080/",
          "height": 953
        },
        "id": "o1Rg3qN-3Xnx",
        "outputId": "af187054-1d88-4dfb-f840-a3be5f55f190"
      },
      "execution_count": 41,
      "outputs": [
        {
          "output_type": "execute_result",
          "data": {
            "text/plain": [
              "<IPython.core.display.Image object>"
            ],
            "image/png": "[encoded data removed]"
          },
          "metadata": {},
          "execution_count": 41
        }
      ]
    },
    {
      "cell_type": "code",
      "source": [
        "layer = lenet.layers"
      ],
      "metadata": {
        "id": "A1ZbA_EY3le-"
      },
      "execution_count": 51,
      "outputs": []
    },
    {
      "cell_type": "code",
      "source": [
        "len(layer)"
      ],
      "metadata": {
        "colab": {
          "base_uri": "https://localhost:8080/"
        },
        "id": "kyR3Zx9932_a",
        "outputId": "b6e12935-11bd-484b-9361-93695c2a0d10"
      },
      "execution_count": 52,
      "outputs": [
        {
          "output_type": "execute_result",
          "data": {
            "text/plain": [
              "9"
            ]
          },
          "metadata": {},
          "execution_count": 52
        }
      ]
    },
    {
      "cell_type": "markdown",
      "source": [
        "**Plotting the Filters**"
      ],
      "metadata": {
        "id": "ZUfpObUnDgbV"
      }
    },
    {
      "cell_type": "code",
      "source": [
        "# def get_filter_biases(i):\n",
        "filters, biases = lenet.layers[0].get_weights()\n",
        "print(layer[3].name, filters.shape)"
      ],
      "metadata": {
        "colab": {
          "base_uri": "https://localhost:8080/"
        },
        "id": "QqIOJ2TM39rT",
        "outputId": "865a9398-e79b-4524-c238-61f79a7ad967"
      },
      "execution_count": 62,
      "outputs": [
        {
          "output_type": "stream",
          "name": "stdout",
          "text": [
            "max_pooling2d_1 (5, 5, 1, 30)\n"
          ]
        }
      ]
    },
    {
      "cell_type": "code",
      "source": [
        "fig1 = plt.Figure(figsize = (15, 20))\n",
        "columns = 2\n",
        "rows = 8\n",
        "n_filters = columns*rows\n",
        "for i in range(1, n_filters+1):\n",
        "  f = filters[:, :, :, i-1]\n",
        "  fig1 = plt.subplot(rows, columns , i)\n",
        "  fig1.set_xticks([])\n",
        "  fig1.set_yticks([])\n",
        "  plt.imshow(f[:, :, 0], cmap = 'gray')\n",
        "plt.show()"
      ],
      "metadata": {
        "colab": {
          "base_uri": "https://localhost:8080/",
          "height": 252
        },
        "id": "vlkhzcsp4cET",
        "outputId": "af8b5893-0cd1-447d-fa71-1a3e30817f2e"
      },
      "execution_count": 67,
      "outputs": [
        {
          "output_type": "display_data",
          "data": {
            "text/plain": [
              "<Figure size 432x288 with 16 Axes>"
            ],
            "image/png": "[encoded data removed]"
          },
          "metadata": {}
        }
      ]
    },
    {
      "cell_type": "code",
      "source": [
        "conv_layer_index = [1, 3]\n",
        "outputs = [lenet.layers[i].output for i in conv_layer_index]\n",
        "lenet_short = Model(inputs = lenet.inputs, outputs = outputs)\n",
        "print(lenet_short.summary())"
      ],
      "metadata": {
        "colab": {
          "base_uri": "https://localhost:8080/"
        },
        "id": "4rYbygKM409v",
        "outputId": "37d5790b-f1c9-4905-cf68-e3e1462687e0"
      },
      "execution_count": 71,
      "outputs": [
        {
          "output_type": "stream",
          "name": "stdout",
          "text": [
            "Model: \"model_1\"\n",
            "_________________________________________________________________\n",
            " Layer (type)                Output Shape              Param #   \n",
            "=================================================================\n",
            " conv2d_input (InputLayer)   [(None, 28, 28, 1)]       0         \n",
            "                                                                 \n",
            " conv2d (Conv2D)             (None, 24, 24, 30)        780       \n",
            "                                                                 \n",
            " max_pooling2d (MaxPooling2D  (None, 12, 12, 30)       0         \n",
            " )                                                               \n",
            "                                                                 \n",
            " conv2d_1 (Conv2D)           (None, 10, 10, 15)        4065      \n",
            "                                                                 \n",
            " max_pooling2d_1 (MaxPooling  (None, 5, 5, 15)         0         \n",
            " 2D)                                                             \n",
            "                                                                 \n",
            "=================================================================\n",
            "Total params: 4,845\n",
            "Trainable params: 4,845\n",
            "Non-trainable params: 0\n",
            "_________________________________________________________________\n",
            "None\n"
          ]
        }
      ]
    },
    {
      "cell_type": "code",
      "source": [
        "test_img = test_X[2]\n",
        "test_img= test_img.reshape(1,28,28,1)\n",
        "print('predicted number is', np.argmax(lenet.predict(test_img), axis=-1)[0])\n",
        "print()\n",
        "\n",
        "# checking the predicted num imgage\n",
        "test_img= test_img.reshape(28,28)\n",
        "plt.imshow(test_img, cmap='gray')"
      ],
      "metadata": {
        "colab": {
          "base_uri": "https://localhost:8080/",
          "height": 372
        },
        "id": "esM6cg7NBEsR",
        "outputId": "1a6bcdcb-df3a-4266-b2d0-ff1d35e7c727"
      },
      "execution_count": 83,
      "outputs": [
        {
          "output_type": "stream",
          "name": "stderr",
          "text": [
            "/usr/local/lib/python3.7/dist-packages/tensorflow/python/data/ops/structured_function.py:265: UserWarning: Even though the `tf.config.experimental_run_functions_eagerly` option is set, this option does not apply to tf.data functions. To force eager execution of tf.data functions, please use `tf.data.experimental.enable_debug_mode()`.\n",
            "  \"Even though the `tf.config.experimental_run_functions_eagerly` \"\n"
          ]
        },
        {
          "output_type": "stream",
          "name": "stdout",
          "text": [
            "predicted number is 1\n",
            "\n"
          ]
        },
        {
          "output_type": "execute_result",
          "data": {
            "text/plain": [
              "<matplotlib.image.AxesImage at 0x7f4b96953810>"
            ]
          },
          "metadata": {},
          "execution_count": 83
        },
        {
          "output_type": "display_data",
          "data": {
            "text/plain": [
              "<Figure size 432x288 with 1 Axes>"
            ],
            "image/png": "[encoded data removed]"
          },
          "metadata": {
            "needs_background": "light"
          }
        }
      ]
    },
    {
      "cell_type": "code",
      "source": [
        "from keras.preprocessing.image import load_img, img_to_array\n",
        "img = test_X[2]\n",
        "img = img_to_array(img)\n",
        "img= img.reshape(1,28,28,1)"
      ],
      "metadata": {
        "id": "OCdTRs3H-Zyv"
      },
      "execution_count": 80,
      "outputs": []
    },
    {
      "cell_type": "code",
      "source": [
        "feature_output = lenet_short.predict(img)"
      ],
      "metadata": {
        "colab": {
          "base_uri": "https://localhost:8080/"
        },
        "id": "iZbgp1pG-nRB",
        "outputId": "bcd28ff7-0b87-4730-c404-37a9c8c0540c"
      },
      "execution_count": 81,
      "outputs": [
        {
          "output_type": "stream",
          "name": "stderr",
          "text": [
            "/usr/local/lib/python3.7/dist-packages/tensorflow/python/data/ops/structured_function.py:265: UserWarning: Even though the `tf.config.experimental_run_functions_eagerly` option is set, this option does not apply to tf.data functions. To force eager execution of tf.data functions, please use `tf.data.experimental.enable_debug_mode()`.\n",
            "  \"Even though the `tf.config.experimental_run_functions_eagerly` \"\n"
          ]
        }
      ]
    },
    {
      "cell_type": "markdown",
      "source": [
        "**Plotting the Immidiate outputs of the COnvolution layer**"
      ],
      "metadata": {
        "id": "ktm3DEcDDTFU"
      }
    },
    {
      "cell_type": "code",
      "source": [
        "columns = 5\n",
        "rows = 3\n",
        "for ftr in feature_output:\n",
        "  fig = plt.Figure(figsize = (15, 20))\n",
        "  for i in range(1, columns*rows +1):\n",
        "    fig = plt.subplot(rows, columns, i)\n",
        "    fig.set_xticks([])\n",
        "    fig.set_yticks([])\n",
        "    plt.imshow(ftr[0, :, :, i-1], cmap = 'gray')\n",
        "  print('1')\n",
        "  plt.show()"
      ],
      "metadata": {
        "colab": {
          "base_uri": "https://localhost:8080/",
          "height": 510
        },
        "id": "FN-avAo0_i5c",
        "outputId": "7ff6361c-975e-4aa6-acee-8b4b0c2312c9"
      },
      "execution_count": 96,
      "outputs": [
        {
          "output_type": "stream",
          "name": "stdout",
          "text": [
            "1\n"
          ]
        },
        {
          "output_type": "display_data",
          "data": {
            "text/plain": [
              "<Figure size 432x288 with 15 Axes>"
            ],
            "image/png": "[encoded data removed]"
          },
          "metadata": {}
        },
        {
          "output_type": "stream",
          "name": "stdout",
          "text": [
            "1\n"
          ]
        },
        {
          "output_type": "display_data",
          "data": {
            "text/plain": [
              "<Figure size 432x288 with 15 Axes>"
            ],
            "image/png": "[encoded data removed]"
          },
          "metadata": {}
        }
      ]
    },
    {
      "cell_type": "code",
      "source": [
        ""
      ],
      "metadata": {
        "id": "LpHI36ODAzCu"
      },
      "execution_count": 92,
      "outputs": []
    },
    {
      "cell_type": "code",
      "source": [
        ""
      ],
      "metadata": {
        "id": "P2JCZV3eBk6G"
      },
      "execution_count": null,
      "outputs": []
    }
  ],
  "metadata": {
    "accelerator": "GPU",
    "colab": {
      "collapsed_sections": [],
      "name": "handwritten_digit_recognizer_Visualizing the each layer output.ipynb",
      "provenance": []
    },
    "kernelspec": {
      "display_name": "Python 3",
      "name": "python3"
    },
    "language_info": {
      "codemirror_mode": {
        "name": "ipython",
        "version": 3
      },
      "file_extension": ".py",
      "mimetype": "text/x-python",
      "name": "python",
      "nbconvert_exporter": "python",
      "pygments_lexer": "ipython3",
      "version": "3.6.6"
    }
  },
  "nbformat": 4,
  "nbformat_minor": 0
}